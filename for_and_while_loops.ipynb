{
  "nbformat": 4,
  "nbformat_minor": 0,
  "metadata": {
    "colab": {
      "provenance": []
    },
    "kernelspec": {
      "name": "python3",
      "display_name": "Python 3"
    },
    "language_info": {
      "name": "python"
    }
  },
  "cells": [
    {
      "cell_type": "markdown",
      "source": [
        "for loop"
      ],
      "metadata": {
        "id": "KGM1m0Ol5vTs"
      }
    },
    {
      "cell_type": "code",
      "source": [
        "for i in range(5,10,20)\n",
        "print(\"iteration:\",i)"
      ],
      "metadata": {
        "colab": {
          "base_uri": "https://localhost:8080/",
          "height": 106
        },
        "collapsed": true,
        "id": "zLOoAzYY5zZz",
        "outputId": "aa8f6e73-7626-4a02-fae4-a22a19a12d60"
      },
      "execution_count": null,
      "outputs": [
        {
          "output_type": "error",
          "ename": "SyntaxError",
          "evalue": "expected ':' (<ipython-input-7-b3a79e357e91>, line 1)",
          "traceback": [
            "\u001b[0;36m  File \u001b[0;32m\"<ipython-input-7-b3a79e357e91>\"\u001b[0;36m, line \u001b[0;32m1\u001b[0m\n\u001b[0;31m    for i in range(5,10,20)\u001b[0m\n\u001b[0m                           ^\u001b[0m\n\u001b[0;31mSyntaxError\u001b[0m\u001b[0;31m:\u001b[0m expected ':'\n"
          ]
        }
      ]
    },
    {
      "cell_type": "markdown",
      "source": [],
      "metadata": {
        "id": "FN52NkNq82Nt"
      }
    },
    {
      "cell_type": "code",
      "source": [],
      "metadata": {
        "id": "fDCVt_7C6yQU"
      },
      "execution_count": null,
      "outputs": []
    },
    {
      "cell_type": "markdown",
      "source": [
        "while loop"
      ],
      "metadata": {
        "id": "n9UmbbXT7Lqs"
      }
    },
    {
      "cell_type": "code",
      "source": [
        "count=0\n",
        "while count<5:\n",
        "  print(\"count:\",count)\n",
        "  count+=1"
      ],
      "metadata": {
        "colab": {
          "base_uri": "https://localhost:8080/"
        },
        "id": "UnuK_Iqe7OxT",
        "outputId": "c39b1b6c-7d22-4b1e-a5af-277b52a63529"
      },
      "execution_count": null,
      "outputs": [
        {
          "output_type": "stream",
          "name": "stdout",
          "text": [
            "count: 0\n",
            "count: 1\n",
            "count: 2\n",
            "count: 3\n",
            "count: 4\n"
          ]
        }
      ]
    }
  ]
}