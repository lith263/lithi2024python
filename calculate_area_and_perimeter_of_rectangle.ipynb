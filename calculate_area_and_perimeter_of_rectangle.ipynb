{
  "nbformat": 4,
  "nbformat_minor": 0,
  "metadata": {
    "colab": {
      "provenance": []
    },
    "kernelspec": {
      "name": "python3",
      "display_name": "Python 3"
    },
    "language_info": {
      "name": "python"
    }
  },
  "cells": [
    {
      "cell_type": "markdown",
      "source": [
        "# **Calculate** **area** **and** **perimeter** **of** **rectangle** ***`[bold text](https://)`***"
      ],
      "metadata": {
        "id": "LbBE6o2sH2OE"
      }
    },
    {
      "cell_type": "code",
      "source": [
        "length=float(input(\"Enter length:\"))\n",
        "width=float(input(\"Enter width\"))\n",
        "area=length*width\n",
        "perimeter=2*(length+width)\n",
        "print(\"Area:,area\")\n",
        "print(\"perimeter:\",perimeter"
      ],
      "metadata": {
        "id": "SQ1L3iatIWPk"
      },
      "execution_count": null,
      "outputs": []
    }
  ]
}