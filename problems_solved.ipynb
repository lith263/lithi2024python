{
  "nbformat": 4,
  "nbformat_minor": 0,
  "metadata": {
    "colab": {
      "provenance": []
    },
    "kernelspec": {
      "name": "python3",
      "display_name": "Python 3"
    },
    "language_info": {
      "name": "python"
    }
  },
  "cells": [
    {
      "cell_type": "code",
      "source": [
        "x=7\n",
        "if x>5:\n",
        "  print(\"x is greater than 5\")"
      ],
      "metadata": {
        "id": "liuWzMFDAjpG",
        "colab": {
          "base_uri": "https://localhost:8080/"
        },
        "outputId": "24d73ca4-8fd4-4b22-8f9c-3c0f6e182686"
      },
      "execution_count": null,
      "outputs": [
        {
          "output_type": "stream",
          "name": "stdout",
          "text": [
            "x is greater than 5\n"
          ]
        }
      ]
    },
    {
      "cell_type": "markdown",
      "source": [
        "2.check a charecter is a vowel"
      ],
      "metadata": {
        "id": "D7v7t8D5HnpC"
      }
    },
    {
      "cell_type": "code",
      "source": [
        "char = input(\"Enter a charecter:\")\n",
        "if char in ['a','e','i','o','u']:\n",
        "    print(f\"{char} is a vowel.\")\n",
        "else:\n",
        "  print(\"{char} is not a vowel.\")"
      ],
      "metadata": {
        "colab": {
          "base_uri": "https://localhost:8080/"
        },
        "collapsed": true,
        "id": "hH1gMGlBH2r4",
        "outputId": "6e9f3597-2cc1-4c8b-a67c-7a398e974916"
      },
      "execution_count": null,
      "outputs": [
        {
          "output_type": "stream",
          "name": "stdout",
          "text": [
            "Enter a charecter:g\n",
            "{char} is not a vowel.\n"
          ]
        }
      ]
    },
    {
      "cell_type": "markdown",
      "source": [
        "print if age is equal to 18"
      ],
      "metadata": {
        "id": "gRsueotHKpbZ"
      }
    },
    {
      "cell_type": "code",
      "source": [
        "      age=int(input(\"enter your age\"))\n",
        "      if age >=18:\n",
        "        print(\"Adult\")\n",
        "      else:\n",
        "        print(\"minor\")"
      ],
      "metadata": {
        "colab": {
          "base_uri": "https://localhost:8080/"
        },
        "collapsed": true,
        "id": "mD-kQ-NzK2ph",
        "outputId": "a81a0ed5-cf2e-48aa-fed8-27f0dbb44751"
      },
      "execution_count": null,
      "outputs": [
        {
          "output_type": "stream",
          "name": "stdout",
          "text": [
            "enter your age15\n",
            "minor\n"
          ]
        }
      ]
    },
    {
      "cell_type": "markdown",
      "source": [
        "4.check a number is divisible by 3"
      ],
      "metadata": {
        "id": "K1-02RwNMTBi"
      }
    },
    {
      "cell_type": "code",
      "source": [
        "dvd=int(input(\"enter a number\"))\n",
        "if dvd/3:\n",
        "  print(\"dvd is divisible by 3\")\n",
        "else:\n",
        "  print(\"dvd is not divisible by 3\")\n"
      ],
      "metadata": {
        "colab": {
          "base_uri": "https://localhost:8080/"
        },
        "id": "KZyaH33iMgXh",
        "outputId": "3618cd31-5e66-44aa-fff6-6ca6451df2c3"
      },
      "execution_count": null,
      "outputs": [
        {
          "output_type": "stream",
          "name": "stdout",
          "text": [
            "enter a number21\n",
            "dvd is divisible by 3\n"
          ]
        }
      ]
    },
    {
      "cell_type": "markdown",
      "source": [
        "5.if elif else"
      ],
      "metadata": {
        "id": "ctfdg3poNrGJ"
      }
    },
    {
      "cell_type": "code",
      "source": [
        "num=int(input(\"enter a number\"))\n",
        "if num>(10):\n",
        "   print(\"it is a small number\")\n",
        "elif num>(20):\n",
        "   print(\"it is a medium number\")\n",
        "else:\n",
        "   print(\"it is greater than 20\")"
      ],
      "metadata": {
        "colab": {
          "base_uri": "https://localhost:8080/"
        },
        "id": "NM2RCPLUNywJ",
        "outputId": "b0373d23-8c1d-4e5d-ed9d-90086f64c5b6"
      },
      "execution_count": null,
      "outputs": [
        {
          "output_type": "stream",
          "name": "stdout",
          "text": [
            "enter a number13\n",
            "it is a small number\n"
          ]
        }
      ]
    },
    {
      "cell_type": "markdown",
      "source": [
        "  6.can an if statement exist without an else block?with an examle"
      ],
      "metadata": {
        "id": "DDRczOV3QCGB"
      }
    },
    {
      "cell_type": "code",
      "source": [
        "num=7\n",
        "if num>0:\n",
        "  print(\"enter positive number\")\n",
        "  print(\"enter negative number\")"
      ],
      "metadata": {
        "colab": {
          "base_uri": "https://localhost:8080/"
        },
        "id": "RfzlchH9Q7NA",
        "outputId": "28ba0fee-61ff-4ebf-ada8-8f96b1753d30"
      },
      "execution_count": null,
      "outputs": [
        {
          "output_type": "stream",
          "name": "stdout",
          "text": [
            "enter positive number\n",
            "enter negative number\n"
          ]
        }
      ]
    },
    {
      "cell_type": "markdown",
      "source": [
        "7"
      ],
      "metadata": {
        "id": "zPvZ-taDRY7g"
      }
    },
    {
      "cell_type": "code",
      "source": [
        "num=float(input(\"enter a number\"))\n",
        "if 50<=100:\n",
        "  print(\"num is between 50 and 100\")\n",
        "else:\n",
        "  print(\"num is not between 50 and 100\")"
      ],
      "metadata": {
        "colab": {
          "base_uri": "https://localhost:8080/"
        },
        "id": "_pW6a-ZVRbNo",
        "outputId": "72eb37e1-d963-405f-a93a-f6db66c50279"
      },
      "execution_count": null,
      "outputs": [
        {
          "output_type": "stream",
          "name": "stdout",
          "text": [
            "enter a number75\n",
            "num is between 50 and 100\n"
          ]
        }
      ]
    },
    {
      "cell_type": "markdown",
      "source": [
        "8.write a program to print all even number between 1 and 20"
      ],
      "metadata": {
        "id": "HmKSm6eVSQ5i"
      }
    },
    {
      "cell_type": "code",
      "source": [
        "for i in range(1,21):\n",
        "  if i%2==0:\n",
        "    print(i)"
      ],
      "metadata": {
        "colab": {
          "base_uri": "https://localhost:8080/"
        },
        "id": "eHHHGt1YSuCC",
        "outputId": "a02cb5e1-c131-4115-a716-baaa5e371084"
      },
      "execution_count": null,
      "outputs": [
        {
          "output_type": "stream",
          "name": "stdout",
          "text": [
            "2\n",
            "4\n",
            "6\n",
            "8\n",
            "10\n",
            "12\n",
            "14\n",
            "16\n",
            "18\n",
            "20\n"
          ]
        }
      ]
    },
    {
      "cell_type": "markdown",
      "source": [
        "9.correct the  following code"
      ],
      "metadata": {
        "id": "yCUD7Cr-TL_5"
      }
    },
    {
      "cell_type": "code",
      "source": [
        "num=int(input(\"enter a number\"))\n",
        "if num % 2==0:\n",
        "  print(\"even\")\n",
        "else:\n",
        "  print(\"odd\")"
      ],
      "metadata": {
        "colab": {
          "base_uri": "https://localhost:8080/"
        },
        "id": "c2ikxnURTjhS",
        "outputId": "9b8efc5b-bea8-42ce-e2cc-2ea8f290e655"
      },
      "execution_count": null,
      "outputs": [
        {
          "output_type": "stream",
          "name": "stdout",
          "text": [
            "enter a number6\n",
            "even\n"
          ]
        }
      ]
    },
    {
      "cell_type": "markdown",
      "source": [
        "10."
      ],
      "metadata": {
        "id": "1XQ9L4ZPUXMR"
      }
    },
    {
      "cell_type": "code",
      "source": [
        "for i in range(1,11):\n",
        "  if i==5:\n",
        "    break\n",
        "  print(i)"
      ],
      "metadata": {
        "colab": {
          "base_uri": "https://localhost:8080/"
        },
        "id": "w17X9M_2UjnZ",
        "outputId": "3b67907e-017b-4d6b-a29b-9ec9230d9f44"
      },
      "execution_count": null,
      "outputs": [
        {
          "output_type": "stream",
          "name": "stdout",
          "text": [
            "1\n",
            "2\n",
            "3\n",
            "4\n"
          ]
        }
      ]
    },
    {
      "cell_type": "markdown",
      "source": [
        "11."
      ],
      "metadata": {
        "id": "Cw3DMS3YVACx"
      }
    },
    {
      "cell_type": "code",
      "source": [
        "total_sum=0\n",
        "while True:\n",
        "   number=int(input(\"enter a number\"):'')\n",
        "   if number==0:\n",
        "      break\n",
        "  total-sum + = number\n",
        "print(\"the sum of the numbers is :\",total_sum)"
      ],
      "metadata": {
        "colab": {
          "base_uri": "https://localhost:8080/",
          "height": 106
        },
        "collapsed": true,
        "id": "A5JaeXt1VLfJ",
        "outputId": "26814a4b-b28b-499f-8de5-f8a8c6136f6c"
      },
      "execution_count": null,
      "outputs": [
        {
          "output_type": "error",
          "ename": "IndentationError",
          "evalue": "unindent does not match any outer indentation level (<tokenize>, line 6)",
          "traceback": [
            "\u001b[0;36m  File \u001b[0;32m\"<tokenize>\"\u001b[0;36m, line \u001b[0;32m6\u001b[0m\n\u001b[0;31m    total-sum + = number\u001b[0m\n\u001b[0m    ^\u001b[0m\n\u001b[0;31mIndentationError\u001b[0m\u001b[0;31m:\u001b[0m unindent does not match any outer indentation level\n"
          ]
        }
      ]
    },
    {
      "cell_type": "markdown",
      "source": [],
      "metadata": {
        "id": "quKGTIl2Q1jQ"
      }
    },
    {
      "cell_type": "code",
      "source": [],
      "metadata": {
        "id": "VgqyCkHpQuwQ"
      },
      "execution_count": null,
      "outputs": []
    }
  ]
}