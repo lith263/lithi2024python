{
  "nbformat": 4,
  "nbformat_minor": 0,
  "metadata": {
    "colab": {
      "provenance": []
    },
    "kernelspec": {
      "name": "python3",
      "display_name": "Python 3"
    },
    "language_info": {
      "name": "python"
    }
  },
  "cells": [
    {
      "cell_type": "markdown",
      "source": [
        "control flow and **loops"
      ],
      "metadata": {
        "id": "mcZ_AlyK0YPG"
      }
    },
    {
      "cell_type": "code",
      "source": [
        "age=18\n",
        "if age>=18:\n",
        "  print(\"you are eligible to vote\")"
      ],
      "metadata": {
        "colab": {
          "base_uri": "https://localhost:8080/"
        },
        "id": "WpM3Cauv1JD7",
        "outputId": "7b44dfdc-8795-469b-e6cb-fa90013c97df"
      },
      "execution_count": null,
      "outputs": [
        {
          "output_type": "stream",
          "name": "stdout",
          "text": [
            "you are eligible to vote\n"
          ]
        }
      ]
    },
    {
      "cell_type": "code",
      "source": [],
      "metadata": {
        "id": "fo_AoVSX3eqb"
      },
      "execution_count": null,
      "outputs": []
    },
    {
      "cell_type": "code",
      "source": [],
      "metadata": {
        "id": "A6oXifav3hC6"
      },
      "execution_count": null,
      "outputs": []
    },
    {
      "cell_type": "code",
      "source": [],
      "metadata": {
        "id": "hvg9oPAv3i6k"
      },
      "execution_count": null,
      "outputs": []
    }
  ]
}