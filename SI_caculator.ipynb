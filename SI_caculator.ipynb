{
  "nbformat": 4,
  "nbformat_minor": 0,
  "metadata": {
    "colab": {
      "provenance": []
    },
    "kernelspec": {
      "name": "python3",
      "display_name": "Python 3"
    },
    "language_info": {
      "name": "python"
    }
  },
  "cells": [
    {
      "cell_type": "code",
      "execution_count": 1,
      "metadata": {
        "colab": {
          "base_uri": "https://localhost:8080/"
        },
        "id": "gkmZrrSVFQnL",
        "outputId": "32ccf0d7-c558-4706-abb8-2335bc4efe38"
      },
      "outputs": [
        {
          "output_type": "stream",
          "name": "stdout",
          "text": [
            "enter princpal,rate rate of interst and time\n",
            "1000\n",
            "8\n",
            "10\n",
            "800.0\n"
          ]
        }
      ],
      "source": [
        "print(\"enter princpal,rate rate of interst and time\")\n",
        "p=float(input())\n",
        "r=float(input())\n",
        "t=float(input())\n",
        "si=(p*r*t)/100\n",
        "print(si)"
      ]
    }
  ]
}