{
  "nbformat": 4,
  "nbformat_minor": 0,
  "metadata": {
    "colab": {
      "provenance": []
    },
    "kernelspec": {
      "name": "python3",
      "display_name": "Python 3"
    },
    "language_info": {
      "name": "python"
    }
  },
  "cells": [
    {
      "cell_type": "markdown",
      "source": [
        "simple calculator using if-else"
      ],
      "metadata": {
        "id": "hDTM22T7UuzG"
      }
    },
    {
      "cell_type": "code",
      "source": [
        "num1=float(input(\"Enter first number:\"))\n",
        "num2=float(input(\"Enter second number\"))\n",
        "operation =input(\"Enter operation(+,-,*,/)\")\n",
        "if operation=='+':\n",
        "  print(\"Result:\",num1+num2)\n",
        "elif operation=='-':\n",
        "  print(\"Result:\",num1-num2)\n",
        "elif operation=='*':\n",
        "  print(\"Result:\",num1*num2)\n",
        "elif operation=='/':\n",
        "  print(\"Result:\",num1/num2)\n",
        "elif operation=='//':\n",
        "  print(\"Result:\",num1//num2)\n",
        "elif operation=='%':\n",
        "  print(\"Result:\",num1%num2)\n",
        "elif operation=='**':\n",
        "  print(\"Result:\",num1**num2)\n",
        "else:\n",
        "  print(\"Invalid operation\")"
      ],
      "metadata": {
        "colab": {
          "base_uri": "https://localhost:8080/"
        },
        "id": "52s2xh9jU57v",
        "outputId": "86ab5735-3211-4066-dc88-0af1aa94480f"
      },
      "execution_count": null,
      "outputs": [
        {
          "output_type": "stream",
          "name": "stdout",
          "text": [
            "Enter first number:2\n",
            "Enter second number4\n",
            "Enter operation(+,-,*,/)+\n",
            "Result: 6.0\n"
          ]
        }
      ]
    }
  ]
}