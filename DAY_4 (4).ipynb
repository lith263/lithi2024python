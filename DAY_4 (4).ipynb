{
  "nbformat": 4,
  "nbformat_minor": 0,
  "metadata": {
    "colab": {
      "provenance": []
    },
    "kernelspec": {
      "name": "python3",
      "display_name": "Python 3"
    },
    "language_info": {
      "name": "python"
    }
  },
  "cells": [
    {
      "cell_type": "markdown",
      "source": [
        "DATA STRUCTURES"
      ],
      "metadata": {
        "id": "Fxi-HDZwKxvq"
      }
    },
    {
      "cell_type": "code",
      "source": [
        "a=[1,2,3,4,5,6,7,8,9,10,]\n",
        "print(a)"
      ],
      "metadata": {
        "colab": {
          "base_uri": "https://localhost:8080/"
        },
        "id": "2H5GnF91K2-y",
        "outputId": "0ac7952e-d400-4c83-e15b-a6e601edf28b"
      },
      "execution_count": null,
      "outputs": [
        {
          "output_type": "stream",
          "name": "stdout",
          "text": [
            "[1, 2, 3, 4, 5, 6, 7, 8, 9, 10]\n"
          ]
        }
      ]
    },
    {
      "cell_type": "code",
      "source": [],
      "metadata": {
        "id": "kuM5GN4OZb-2"
      },
      "execution_count": null,
      "outputs": []
    },
    {
      "cell_type": "markdown",
      "source": [
        "creating list"
      ],
      "metadata": {
        "id": "hH1aBAfjZice"
      }
    },
    {
      "cell_type": "code",
      "source": [
        "numbers=[1,2,3,4,5]\n",
        "mixed=[1,\"hello\",3.14]\n",
        "numbers"
      ],
      "metadata": {
        "colab": {
          "base_uri": "https://localhost:8080/"
        },
        "id": "yA8u2gA5Zl9u",
        "outputId": "fb091f54-5457-41e5-bdcf-daddcb299baf"
      },
      "execution_count": null,
      "outputs": [
        {
          "output_type": "execute_result",
          "data": {
            "text/plain": [
              "[1, 2, 3, 4, 5]"
            ]
          },
          "metadata": {},
          "execution_count": 6
        }
      ]
    },
    {
      "cell_type": "markdown",
      "source": [
        "1.accessing items"
      ],
      "metadata": {
        "id": "24psoATEaMlH"
      }
    },
    {
      "cell_type": "code",
      "source": [
        "print(numbers[0])\n",
        "print(numbers[-1])"
      ],
      "metadata": {
        "colab": {
          "base_uri": "https://localhost:8080/"
        },
        "collapsed": true,
        "id": "dDv5W38CaSqu",
        "outputId": "8ac1c64a-8c5b-4d3a-b57a-2aefcd88808d"
      },
      "execution_count": null,
      "outputs": [
        {
          "output_type": "stream",
          "name": "stdout",
          "text": [
            "1\n",
            "5\n"
          ]
        }
      ]
    },
    {
      "cell_type": "markdown",
      "source": [
        "modifying items"
      ],
      "metadata": {
        "id": "eNfCDwXObhkH"
      }
    },
    {
      "cell_type": "code",
      "source": [
        "numbers[0]=10\n",
        "print(numbers)"
      ],
      "metadata": {
        "colab": {
          "base_uri": "https://localhost:8080/"
        },
        "id": "5IbubZambnQI",
        "outputId": "b844d4dc-337a-4932-b11c-186b8d374ce9"
      },
      "execution_count": null,
      "outputs": [
        {
          "output_type": "stream",
          "name": "stdout",
          "text": [
            "[10, 2, 3, 4, 5]\n"
          ]
        }
      ]
    },
    {
      "cell_type": "markdown",
      "source": [
        "adding items"
      ],
      "metadata": {
        "id": "OpT4KetSb_-v"
      }
    },
    {
      "cell_type": "code",
      "source": [
        "# append\n",
        "a.append(12)\n",
        "a"
      ],
      "metadata": {
        "colab": {
          "base_uri": "https://localhost:8080/"
        },
        "id": "7zg-usW7drv3",
        "outputId": "6b14ca6e-8ea7-40c9-f849-080e2a9d835e"
      },
      "execution_count": null,
      "outputs": [
        {
          "output_type": "execute_result",
          "data": {
            "text/plain": [
              "[1, 2, 3, 4, 5, 6, 7, 8, 9, 10, 12]"
            ]
          },
          "metadata": {},
          "execution_count": 19
        }
      ]
    },
    {
      "cell_type": "markdown",
      "source": [
        "removing items"
      ],
      "metadata": {
        "id": "5m0iW_bae3c4"
      }
    },
    {
      "cell_type": "code",
      "source": [
        "numbers.pop(1)\n",
        "numbers"
      ],
      "metadata": {
        "colab": {
          "base_uri": "https://localhost:8080/"
        },
        "id": "cPMQoyY3e-oA",
        "outputId": "6d26a792-b768-46f9-ab08-648f706be7f1"
      },
      "execution_count": null,
      "outputs": [
        {
          "output_type": "execute_result",
          "data": {
            "text/plain": [
              "[10, 3, 4, 5]"
            ]
          },
          "metadata": {},
          "execution_count": 28
        }
      ]
    },
    {
      "cell_type": "markdown",
      "source": [
        "dictionary"
      ],
      "metadata": {
        "id": "McC7S3uhnLx7"
      }
    },
    {
      "cell_type": "code",
      "source": [
        "student={\n",
        "    \"name\":\"alice\",\n",
        "    \"age\":20,\n",
        "    \"marks\":85\n",
        "}\n",
        "student"
      ],
      "metadata": {
        "colab": {
          "base_uri": "https://localhost:8080/"
        },
        "id": "mbhaBI0Dndd7",
        "outputId": "0538289d-3370-437d-94be-ea5749d19ea9"
      },
      "execution_count": null,
      "outputs": [
        {
          "output_type": "execute_result",
          "data": {
            "text/plain": [
              "{'name': 'alice', 'age': 20, 'marks': 85}"
            ]
          },
          "metadata": {},
          "execution_count": 29
        }
      ]
    },
    {
      "cell_type": "markdown",
      "source": [
        "modifying"
      ],
      "metadata": {
        "id": "2a2Ry0DBoNEj"
      }
    },
    {
      "cell_type": "code",
      "source": [
        "student[\"age\"]=21\n",
        "student"
      ],
      "metadata": {
        "colab": {
          "base_uri": "https://localhost:8080/"
        },
        "id": "eKlcwHOooRn7",
        "outputId": "697468de-0520-489b-e6b7-7bc6d0880d61"
      },
      "execution_count": null,
      "outputs": [
        {
          "output_type": "execute_result",
          "data": {
            "text/plain": [
              "{'name': 'alice', 'age': 21, 'marks': 85}"
            ]
          },
          "metadata": {},
          "execution_count": 30
        }
      ]
    },
    {
      "cell_type": "markdown",
      "source": [
        "adding"
      ],
      "metadata": {
        "id": "DrHipSXhoiAj"
      }
    },
    {
      "cell_type": "code",
      "source": [
        "student[\"grade\"]=\"A\"\n",
        "student"
      ],
      "metadata": {
        "colab": {
          "base_uri": "https://localhost:8080/"
        },
        "id": "HCkSP9RDojsc",
        "outputId": "637cca07-a754-430b-cac8-fb138b03ebd1"
      },
      "execution_count": null,
      "outputs": [
        {
          "output_type": "execute_result",
          "data": {
            "text/plain": [
              "{'name': 'alice', 'age': 21, 'marks': 85, 'grade': 'A'}"
            ]
          },
          "metadata": {},
          "execution_count": 31
        }
      ]
    },
    {
      "cell_type": "markdown",
      "source": [
        "removing"
      ],
      "metadata": {
        "id": "cVf9A-XioqWr"
      }
    },
    {
      "cell_type": "code",
      "source": [
        "del student[\"marks\"]\n",
        "student"
      ],
      "metadata": {
        "colab": {
          "base_uri": "https://localhost:8080/"
        },
        "id": "GBwCun2aowyk",
        "outputId": "e6ea36fb-6f74-481a-84eb-ff45a7467798"
      },
      "execution_count": null,
      "outputs": [
        {
          "output_type": "execute_result",
          "data": {
            "text/plain": [
              "{'name': 'alice', 'age': 21, 'grade': 'A'}"
            ]
          },
          "metadata": {},
          "execution_count": 32
        }
      ]
    },
    {
      "cell_type": "markdown",
      "source": [
        "sets"
      ],
      "metadata": {
        "id": "MtdEgWKZpF3j"
      }
    },
    {
      "cell_type": "code",
      "source": [],
      "metadata": {
        "id": "byhu6h7MpH1y"
      },
      "execution_count": null,
      "outputs": []
    },
    {
      "cell_type": "markdown",
      "source": [
        "adding items"
      ],
      "metadata": {
        "id": "FpESz5v1pNab"
      }
    },
    {
      "cell_type": "code",
      "source": [
        "numbers={1,2,3,4,5}\n",
        "numbers.add(6)\n",
        "numbers"
      ],
      "metadata": {
        "colab": {
          "base_uri": "https://localhost:8080/"
        },
        "id": "A6t-X3sGpRXs",
        "outputId": "56fa7224-66c6-44e8-fdac-0de3a997dea4"
      },
      "execution_count": null,
      "outputs": [
        {
          "output_type": "execute_result",
          "data": {
            "text/plain": [
              "{1, 2, 3, 4, 5, 6}"
            ]
          },
          "metadata": {},
          "execution_count": 34
        }
      ]
    },
    {
      "cell_type": "markdown",
      "source": [
        "removing items"
      ],
      "metadata": {
        "id": "df7g3lVtpa97"
      }
    },
    {
      "cell_type": "code",
      "source": [
        "numbers.remove(3)\n",
        "numbers"
      ],
      "metadata": {
        "colab": {
          "base_uri": "https://localhost:8080/"
        },
        "id": "C5wHPgU1pgul",
        "outputId": "78d568ea-9c78-4f37-d32d-d2bc3858902c"
      },
      "execution_count": null,
      "outputs": [
        {
          "output_type": "execute_result",
          "data": {
            "text/plain": [
              "{1, 2, 4, 5, 6}"
            ]
          },
          "metadata": {},
          "execution_count": 35
        }
      ]
    },
    {
      "cell_type": "markdown",
      "source": [
        "**tuples**"
      ],
      "metadata": {
        "id": "2dc7e7WAtdE8"
      }
    },
    {
      "cell_type": "code",
      "source": [],
      "metadata": {
        "id": "VbyJXRq0tiq1"
      },
      "execution_count": null,
      "outputs": []
    },
    {
      "cell_type": "markdown",
      "source": [
        "creating a tuple"
      ],
      "metadata": {
        "id": "gYmRzuSptjVG"
      }
    },
    {
      "cell_type": "code",
      "source": [
        "coordinates=(10,20,30)\n",
        "coordinates"
      ],
      "metadata": {
        "colab": {
          "base_uri": "https://localhost:8080/"
        },
        "id": "OU_rQa1Pto0t",
        "outputId": "cc75036a-c93a-4652-f877-628c21eb02ed"
      },
      "execution_count": null,
      "outputs": [
        {
          "output_type": "execute_result",
          "data": {
            "text/plain": [
              "(10, 20, 30)"
            ]
          },
          "metadata": {},
          "execution_count": 43
        }
      ]
    },
    {
      "cell_type": "markdown",
      "source": [
        "accessing items in a tuple"
      ],
      "metadata": {
        "id": "V5A-2pD-t5m0"
      }
    },
    {
      "cell_type": "code",
      "source": [
        "print(coordinates[0])\n"
      ],
      "metadata": {
        "colab": {
          "base_uri": "https://localhost:8080/"
        },
        "id": "wTUqeRWEuGeN",
        "outputId": "23cc0f74-46af-4813-df11-eda95abc641d"
      },
      "execution_count": null,
      "outputs": [
        {
          "output_type": "stream",
          "name": "stdout",
          "text": [
            "10\n"
          ]
        }
      ]
    },
    {
      "cell_type": "markdown",
      "source": [],
      "metadata": {
        "id": "nFWPtsNXuw-2"
      }
    },
    {
      "cell_type": "markdown",
      "source": [],
      "metadata": {
        "id": "sZbQ8KCyu02V"
      }
    },
    {
      "cell_type": "markdown",
      "source": [
        "hands_on **practise**"
      ],
      "metadata": {
        "id": "ycErAeqAppl0"
      }
    },
    {
      "cell_type": "markdown",
      "source": [
        "1.manipulating lists"
      ],
      "metadata": {
        "id": "74OjpTd8p0es"
      }
    },
    {
      "cell_type": "code",
      "source": [
        "fruits=[\"apple\",\"banana\",\"orange\"]\n",
        "fruits.append(\"mango\")\n",
        "fruits.remove(\"banana\")\n",
        "print(fruits)"
      ],
      "metadata": {
        "colab": {
          "base_uri": "https://localhost:8080/"
        },
        "id": "fajbHcJKp7rE",
        "outputId": "a76f2844-fa95-4006-9f6e-3d9772cd7e92"
      },
      "execution_count": null,
      "outputs": [
        {
          "output_type": "stream",
          "name": "stdout",
          "text": [
            "['apple', 'orange', 'mango']\n"
          ]
        }
      ]
    },
    {
      "cell_type": "markdown",
      "source": [
        "2.creating a dictionary"
      ],
      "metadata": {
        "id": "WxLdBV75q1Bc"
      }
    },
    {
      "cell_type": "code",
      "source": [
        "book={\n",
        "    \"title\":\"python basics\",\n",
        "    \"author\":\"john doe\",\n",
        "    \"year\":2023\n",
        "}\n",
        "print(book[\"title\"])\n",
        "book[\"year\"]=2022\n",
        "print(book)\n"
      ],
      "metadata": {
        "colab": {
          "base_uri": "https://localhost:8080/"
        },
        "id": "5DZxEIl9q__k",
        "outputId": "16a1410c-7a9a-47fe-e8e6-bd234a9fbc5d"
      },
      "execution_count": null,
      "outputs": [
        {
          "output_type": "stream",
          "name": "stdout",
          "text": [
            "python basics\n",
            "{'title': 'python basics', 'author': 'john doe', 'year': 2022}\n"
          ]
        }
      ]
    },
    {
      "cell_type": "markdown",
      "source": [
        "3.working with sets"
      ],
      "metadata": {
        "id": "3thG5E5Orq6N"
      }
    },
    {
      "cell_type": "code",
      "source": [
        "set1={1,2,3,4,5}\n",
        "set2={4,5,6,7,8}\n",
        "print(\"union:\",set1|set2)\n",
        "print(\"intersection:\",set1&set2)\n",
        "print(\"difference:\",set1-set2)"
      ],
      "metadata": {
        "colab": {
          "base_uri": "https://localhost:8080/"
        },
        "id": "NdPnqZz6sBfT",
        "outputId": "afa563b0-0534-4ad3-d43d-0d73615c8dd0"
      },
      "execution_count": null,
      "outputs": [
        {
          "output_type": "stream",
          "name": "stdout",
          "text": [
            "union: {1, 2, 3, 4, 5, 6, 7, 8}\n",
            "intersection: {4, 5}\n",
            "difference: {1, 2, 3}\n"
          ]
        }
      ]
    },
    {
      "cell_type": "code",
      "source": [],
      "metadata": {
        "id": "4GeBJnfHpx_k"
      },
      "execution_count": null,
      "outputs": []
    },
    {
      "cell_type": "markdown",
      "source": [
        "16.merge two lists\n"
      ],
      "metadata": {
        "id": "UBkWTil7u3zm"
      }
    },
    {
      "cell_type": "code",
      "source": [
        "list1=[1,2,3]\n",
        "list2=[4,5,6]\n",
        "merged_list=list1+list2\n",
        "print(\"merged list:\", merged_list)"
      ],
      "metadata": {
        "colab": {
          "base_uri": "https://localhost:8080/"
        },
        "id": "8MYBXpbJvCp_",
        "outputId": "7fd6ae26-7db3-4aeb-e345-d44385639e8b"
      },
      "execution_count": null,
      "outputs": [
        {
          "output_type": "stream",
          "name": "stdout",
          "text": [
            "merged list: [1, 2, 3, 4, 5, 6]\n"
          ]
        }
      ]
    },
    {
      "cell_type": "markdown",
      "source": [
        "dictionary operations"
      ],
      "metadata": {
        "id": "ToYIka10vmm2"
      }
    },
    {
      "cell_type": "code",
      "source": [
        "student={\"name\":\"john\",\"age\":21,\"marks\":88}\n",
        "print(\"name:\",student[\"name\"])\n",
        "print(\"age:\",student[\"age\"])\n",
        "print(\"marks:\",student[\"marks\"])"
      ],
      "metadata": {
        "colab": {
          "base_uri": "https://localhost:8080/"
        },
        "id": "kl8dgjAtvtq2",
        "outputId": "4a73b80d-67f5-47b5-c3f1-2ae23c2a6ece"
      },
      "execution_count": null,
      "outputs": [
        {
          "output_type": "stream",
          "name": "stdout",
          "text": [
            "name: john\n",
            "age: 21\n",
            "marks: 88\n"
          ]
        }
      ]
    },
    {
      "cell_type": "markdown",
      "source": [
        "find the maximum and minimum in a list"
      ],
      "metadata": {
        "id": "o9fFj1nwxMy7"
      }
    },
    {
      "cell_type": "code",
      "source": [
        "numbers=[10,20,30,40,50]\n",
        "print(\"maximum:\",max(numbers))\n",
        "print(\"minimum:\",min(numbers))\n"
      ],
      "metadata": {
        "colab": {
          "base_uri": "https://localhost:8080/"
        },
        "id": "SC_KqkYOxZx3",
        "outputId": "20aa8923-0738-4b91-955e-eb6af7f5f8bb"
      },
      "execution_count": null,
      "outputs": [
        {
          "output_type": "stream",
          "name": "stdout",
          "text": [
            "maximum: 50\n",
            "minimum: 10\n"
          ]
        }
      ]
    },
    {
      "cell_type": "markdown",
      "source": [
        "count frequency of elements in a list"
      ],
      "metadata": {
        "id": "Yu5Nn03ByeV_"
      }
    },
    {
      "cell_type": "code",
      "source": [
        "numbers=[1,2,2,3,3,3,4,4,4,4]\n",
        "frequency={}\n",
        "for num in numbers:\n",
        "   frequency[num]=frequency.get(num,0)+1\n",
        "print(\"frequency:\",frequency)"
      ],
      "metadata": {
        "colab": {
          "base_uri": "https://localhost:8080/"
        },
        "id": "Gu88CJu4yubt",
        "outputId": "b8f463ff-bed3-4996-c198-2ec362037dcf"
      },
      "execution_count": null,
      "outputs": [
        {
          "output_type": "stream",
          "name": "stdout",
          "text": [
            "frequency: {1: 1, 2: 2, 3: 3, 4: 4}\n"
          ]
        }
      ]
    },
    {
      "cell_type": "markdown",
      "source": [
        "sort a list of tuples by the second element"
      ],
      "metadata": {
        "id": "UqT7bW7uz13P"
      }
    },
    {
      "cell_type": "code",
      "source": [
        "tuples=[(1,'apple'),(2,'banana'),(3,'orange')]\n",
        "sorted_tuples=sorted(tuples,key=lambda x:x[1])\n",
        "print(\"sorted tuples:\",sorted_tuples)"
      ],
      "metadata": {
        "colab": {
          "base_uri": "https://localhost:8080/"
        },
        "id": "DVo_yZik0CSo",
        "outputId": "1adc524b-9961-4098-87af-80bb5303b2f4"
      },
      "execution_count": null,
      "outputs": [
        {
          "output_type": "stream",
          "name": "stdout",
          "text": [
            "sorted tuples: [(1, 'apple'), (2, 'banana'), (3, 'orange')]\n"
          ]
        }
      ]
    },
    {
      "cell_type": "code",
      "source": [
        "number=(input(\"enter a number:\"))\n",
        "if number==number[::-1]:\n",
        "     print(\"polindrome\")\n",
        "else:\n",
        "  print(\"not palindrome\")"
      ],
      "metadata": {
        "colab": {
          "base_uri": "https://localhost:8080/"
        },
        "id": "hp5bEUPz6wT5",
        "outputId": "8c0aeb49-613d-4f9d-dc6c-79a5264ae093"
      },
      "execution_count": null,
      "outputs": [
        {
          "output_type": "stream",
          "name": "stdout",
          "text": [
            "enter a number:sos\n",
            "polindrome\n"
          ]
        }
      ]
    },
    {
      "cell_type": "code",
      "source": [
        "number = int(input(\"enter a number\"))\n",
        "reverse_number =0\n",
        "temp = number\n",
        "while temp > 0 :\n",
        "    digit = temp % 10\n",
        "    reverse_number = reverse_number * 10 + digit\n",
        "    temp //= 10\n",
        "\n",
        "if number == reverse_number:\n",
        "  print(f\" {number} pail\")\n",
        "else:\n",
        "  print(f\" {number} not pail\")\n",
        "\n",
        "enter a number121\n",
        " 121 pailndrom"
      ],
      "metadata": {
        "id": "b4Hgt8ucKMjK"
      },
      "execution_count": null,
      "outputs": []
    },
    {
      "cell_type": "code",
      "source": [
        "class Solution(object):\n",
        "    def isPalindrome(self, x):\n",
        "        \"\"\"\n",
        "        :type x: int\n",
        "        :rtype: bool\n",
        "        \"\"\"\n",
        "        if x < 0 or (x % 10 == 0 and x != 0):\n",
        "            return False\n",
        "\n",
        "        reversed = 0\n",
        "        while x > reversed:\n",
        "\n",
        "            reversed = reversed * 10 + x % 10\n",
        "            x //= 10\n",
        "\n",
        "\n",
        "        return x == reversed or x == reversed // 10\n",
        "\n",
        "solution = Solution()\n",
        "print(solution.isPalindrome(121))\n"
      ],
      "metadata": {
        "colab": {
          "base_uri": "https://localhost:8080/"
        },
        "id": "dON5iAA_e9ZP",
        "outputId": "eddbe46b-6a0c-4a10-a16b-05cbb4947748"
      },
      "execution_count": 82,
      "outputs": [
        {
          "output_type": "stream",
          "name": "stdout",
          "text": [
            "True\n"
          ]
        }
      ]
    }
  ]
}