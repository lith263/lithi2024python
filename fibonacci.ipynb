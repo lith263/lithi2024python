{
  "nbformat": 4,
  "nbformat_minor": 0,
  "metadata": {
    "colab": {
      "provenance": []
    },
    "kernelspec": {
      "name": "python3",
      "display_name": "Python 3"
    },
    "language_info": {
      "name": "python"
    }
  },
  "cells": [
    {
      "cell_type": "markdown",
      "source": [
        "Fibonacci sequence"
      ],
      "metadata": {
        "id": "ne5b59b8H2bd"
      }
    },
    {
      "cell_type": "code",
      "source": [
        "n=int(input(\"Enter the number of terms:\"))\n",
        "a,b=0,1\n",
        "for i in range(n):\n",
        "  print(a,end=\"\")\n",
        "  print(a,end=\"\")\n",
        "  a,b=b,a+b"
      ],
      "metadata": {
        "colab": {
          "base_uri": "https://localhost:8080/"
        },
        "id": "foYPZ6_bIH-F",
        "outputId": "652c00c7-ccac-479d-de0d-21df1cdde223"
      },
      "execution_count": null,
      "outputs": [
        {
          "output_type": "stream",
          "name": "stdout",
          "text": [
            "Enter the number of terms:5\n",
            "0011112233"
          ]
        }
      ]
    }
  ]
}