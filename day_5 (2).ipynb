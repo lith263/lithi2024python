{
  "nbformat": 4,
  "nbformat_minor": 0,
  "metadata": {
    "colab": {
      "provenance": []
    },
    "kernelspec": {
      "name": "python3",
      "display_name": "Python 3"
    },
    "language_info": {
      "name": "python"
    }
  },
  "cells": [
    {
      "cell_type": "code",
      "source": [],
      "metadata": {
        "id": "UrDHF3Fgn9yR"
      },
      "execution_count": null,
      "outputs": []
    },
    {
      "cell_type": "markdown",
      "source": [
        "file handling"
      ],
      "metadata": {
        "id": "UCS_U-jHoKaI"
      }
    },
    {
      "cell_type": "code",
      "source": [
        "file =open(\"/content/drive/MyDrive/lithin m/LITHIN HM.txt\",\"r\")\n",
        "content = file.read()\n",
        "print(content)\n",
        "file.close()"
      ],
      "metadata": {
        "colab": {
          "base_uri": "https://localhost:8080/"
        },
        "id": "vepbzb59oNIY",
        "outputId": "31ae6f75-53d5-4d30-d19e-00f678427f8a"
      },
      "execution_count": 8,
      "outputs": [
        {
          "output_type": "stream",
          "name": "stdout",
          "text": [
            "h vbhjghgvhjhjghjlithin ME\n"
          ]
        }
      ]
    },
    {
      "cell_type": "code",
      "source": [
        "file =open(\"/content/drive/MyDrive/lithin m/LITHIN HM.txt\",\"w\")\n",
        "file.write(\"hello,world!\\n\")\n",
        "file.close()"
      ],
      "metadata": {
        "id": "rv5w-llUwRlx"
      },
      "execution_count": 10,
      "outputs": []
    },
    {
      "cell_type": "markdown",
      "source": [
        "APPENDING TO A FILE"
      ],
      "metadata": {
        "id": "YjAB9mJKyASJ"
      }
    },
    {
      "cell_type": "code",
      "source": [
        "file =open(\"/content/drive/MyDrive/lithin m/LITHIN HM.txt\",\"a\")\n",
        "file.write(\"hello,world!\\n\")\n",
        "file.close()\n"
      ],
      "metadata": {
        "id": "pd_3KPTKxEJB"
      },
      "execution_count": 13,
      "outputs": []
    },
    {
      "cell_type": "code",
      "source": [],
      "metadata": {
        "id": "qXLP5N4kySAh"
      },
      "execution_count": null,
      "outputs": []
    },
    {
      "cell_type": "markdown",
      "source": [
        "FILE HANDLING MODULES"
      ],
      "metadata": {
        "id": "ZUYiKbL_yS_B"
      }
    },
    {
      "cell_type": "code",
      "source": [
        "with open(\"/content/raja.jpg\",\"rb\") as file:\n",
        "  data = file.read()"
      ],
      "metadata": {
        "id": "qhDH2ZC6-KVB"
      },
      "execution_count": 20,
      "outputs": []
    },
    {
      "cell_type": "code",
      "source": [
        "                                                                          try:\n",
        "  number =int(input(\"enter the number:\"))\n",
        "  print(10/number)\n",
        "except ZeroDivisionError:\n",
        "  print(\"you cannot divide by zero\")\n",
        "except ValueError:\n",
        "  print(\"invaild input! please enter a number\")\n",
        ""
      ],
      "metadata": {
        "colab": {
          "base_uri": "https://localhost:8080/"
        },
        "collapsed": true,
        "id": "cG5zRaHIB0hC",
        "outputId": "84e854a9-34c0-4cdd-b72c-e5e76c49ef8d"
      },
      "execution_count": 30,
      "outputs": [
        {
          "output_type": "stream",
          "name": "stdout",
          "text": [
            "enter the number:10\n",
            "1.0\n"
          ]
        }
      ]
    },
    {
      "cell_type": "code",
      "source": [
        "try:\n",
        "  file = open (\"/content/drive/MyDrive/lithin m/LITHIN HM.txt\",\"r\")\n",
        "except FileNotFoundError:\n",
        "  print(\"file not found.\")\n",
        "finally:\n",
        "  print(\"execuation complete.\")\n",
        "\n",
        ""
      ],
      "metadata": {
        "colab": {
          "base_uri": "https://localhost:8080/"
        },
        "id": "s_rhg8DFD5YS",
        "outputId": "55397acd-0a37-4b54-f078-e2bdbceffda0"
      },
      "execution_count": 35,
      "outputs": [
        {
          "output_type": "stream",
          "name": "stdout",
          "text": [
            "execuation complete.\n"
          ]
        }
      ]
    },
    {
      "cell_type": "code",
      "source": [
        "def check_age(age):\n",
        "  if age<18:\n",
        "    raise ValueError(\"Age must be 18 or oldr\")\n",
        "  return True\n",
        "\n",
        "try:\n",
        "  check_age(16)\n",
        "except ValueError as e:\n",
        "  print(e)"
      ],
      "metadata": {
        "colab": {
          "base_uri": "https://localhost:8080/"
        },
        "id": "BUHITmxfEl3K",
        "outputId": "472a277b-c9f3-42bb-b4af-903fa1f5856c"
      },
      "execution_count": 36,
      "outputs": [
        {
          "output_type": "stream",
          "name": "stdout",
          "text": [
            "Age must be 18 or oldr\n"
          ]
        }
      ]
    }
  ]
}