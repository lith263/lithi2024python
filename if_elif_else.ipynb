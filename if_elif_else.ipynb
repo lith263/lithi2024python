{
  "nbformat": 4,
  "nbformat_minor": 0,
  "metadata": {
    "colab": {
      "provenance": []
    },
    "kernelspec": {
      "name": "python3",
      "display_name": "Python 3"
    },
    "language_info": {
      "name": "python"
    }
  },
  "cells": [
    {
      "cell_type": "code",
      "source": [
        "num=int(input(\"Enter a number:\"))\n",
        "if num%2==0:\n",
        "  print(\"evan number\")\n",
        "else:\n",
        "  print(\"odd number\")"
      ],
      "metadata": {
        "colab": {
          "base_uri": "https://localhost:8080/"
        },
        "id": "o1prX00a2m5b",
        "outputId": "cb44c89a-d866-4748-cf9b-f7d04a075ee8"
      },
      "execution_count": null,
      "outputs": [
        {
          "output_type": "stream",
          "name": "stdout",
          "text": [
            "Enter a number:12\n",
            "evan number\n"
          ]
        }
      ]
    },
    {
      "cell_type": "code",
      "source": [],
      "metadata": {
        "id": "N8TC_qqz3lg7"
      },
      "execution_count": null,
      "outputs": []
    },
    {
      "cell_type": "markdown",
      "source": [
        "if-elif-else statement"
      ],
      "metadata": {
        "id": "W5hampAW3uoj"
      }
    },
    {
      "cell_type": "code",
      "source": [
        "marks=int(input(\"Enter your marks:\"))\n",
        "if marks>=90:\n",
        "  print(\"Grade:A\")\n",
        "elif marks>=75:\n",
        "  print(\"Grade:B\")\n",
        "elif marks>=50:\n",
        "  print(\"Grade:C\")\n",
        "elif marks>=35:\n",
        "  print(\"Grade:D\")"
      ],
      "metadata": {
        "colab": {
          "base_uri": "https://localhost:8080/"
        },
        "id": "rTlLbNlr34KE",
        "outputId": "24b3a9e3-8b7f-4124-d316-b8dfbe4f6bc6"
      },
      "execution_count": 2,
      "outputs": [
        {
          "output_type": "stream",
          "name": "stdout",
          "text": [
            "Enter your marks:77\n",
            "Grade:B\n"
          ]
        }
      ]
    }
  ]
}